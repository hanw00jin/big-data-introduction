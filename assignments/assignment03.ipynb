{
 "cells": [
  {
   "cell_type": "code",
   "execution_count": 1,
   "id": "8a29cd77-a69a-45aa-86b8-a9b3288598dc",
   "metadata": {},
   "outputs": [],
   "source": [
    "# [+] SparkSession 설정\n",
    "from pyspark.sql import SparkSession\n",
    "\n",
    "spark = SparkSession.builder.master('local').appName('test-app').getOrCreate()"
   ]
  },
  {
   "cell_type": "code",
   "execution_count": 2,
   "id": "0d381204-2711-4f70-8ca9-98936e101912",
   "metadata": {},
   "outputs": [],
   "source": [
    "from pyspark.sql.types import StructType, StructField, StringType, IntegerType, TimestampType"
   ]
  },
  {
   "cell_type": "code",
   "execution_count": 3,
   "id": "12a58718-d2f0-48ad-948c-1d4e6e0f9e72",
   "metadata": {},
   "outputs": [],
   "source": [
    "# [+] Trip Data 스키마 정의\n",
    "tripSchema = StructType([\n",
    "    StructField('name', StringType(), False),\n",
    "    StructField('age', IntegerType(), True),\n",
    "])"
   ]
  },
  {
   "cell_type": "code",
   "execution_count": 4,
   "id": "322081c4-0bd1-4722-834c-ec1d0c37e8f0",
   "metadata": {},
   "outputs": [],
   "source": [
    "path = \"./data/\"\n",
    "name_data = \"human1.csv\"\n",
    "\n",
    "df_name = spark.read.csv(path+name_data, schema=tripSchema, header=True)"
   ]
  },
  {
   "cell_type": "code",
   "execution_count": 5,
   "id": "a723c17f-33ed-4072-a407-facf4af89f6c",
   "metadata": {},
   "outputs": [
    {
     "name": "stdout",
     "output_type": "stream",
     "text": [
      "+---------------+---+\n",
      "|           name|age|\n",
      "+---------------+---+\n",
      "|     Bill Gates| 67|\n",
      "|      Elon Musk| 51|\n",
      "|Mark Zuckerberg| 40|\n",
      "|   Park Ji-Sung| 42|\n",
      "|  Son Heung-min| 30|\n",
      "|     Kim Minjae| 26|\n",
      "|    Lee Jaeyong| 54|\n",
      "| Warren Buffett| 94|\n",
      "+---------------+---+\n",
      "\n"
     ]
    }
   ],
   "source": [
    "df_name.show()"
   ]
  },
  {
   "cell_type": "code",
   "execution_count": 6,
   "id": "c0525324-05fd-4213-8086-ca364a9c4641",
   "metadata": {},
   "outputs": [
    {
     "name": "stdout",
     "output_type": "stream",
     "text": [
      "root\n",
      " |-- name: string (nullable = true)\n",
      " |-- age: integer (nullable = true)\n",
      "\n"
     ]
    }
   ],
   "source": [
    "df_name.printSchema()"
   ]
  },
  {
   "cell_type": "code",
   "execution_count": 7,
   "id": "9955da42-f9f7-4047-ae72-5dbedcc61502",
   "metadata": {},
   "outputs": [],
   "source": [
    "df_name.createOrReplaceTempView('age')"
   ]
  },
  {
   "cell_type": "code",
   "execution_count": 8,
   "id": "28b07f41-9fd8-4270-9015-84f38e360ca4",
   "metadata": {},
   "outputs": [],
   "source": [
    "# UDF 1 age\n",
    "def age_category(age):\n",
    "    if age < 35:\n",
    "        return 'young'\n",
    "    elif age < 60:\n",
    "        return 'adult'\n",
    "    else:\n",
    "        return 'senior'"
   ]
  },
  {
   "cell_type": "code",
   "execution_count": 9,
   "id": "6c7be95a-8755-443f-8706-a0051e76c87e",
   "metadata": {},
   "outputs": [
    {
     "data": {
      "text/plain": [
       "<function __main__.age_category(age)>"
      ]
     },
     "execution_count": 9,
     "metadata": {},
     "output_type": "execute_result"
    }
   ],
   "source": [
    "# UDF 등록\n",
    "spark.udf.register('age_category', age_category)"
   ]
  },
  {
   "cell_type": "code",
   "execution_count": 10,
   "id": "7cc4a434-5365-4993-b1fd-b25a2dcb9583",
   "metadata": {},
   "outputs": [
    {
     "name": "stdout",
     "output_type": "stream",
     "text": [
      "+---------------+-----------------+\n",
      "|           name|age_category(age)|\n",
      "+---------------+-----------------+\n",
      "|     Bill Gates|           senior|\n",
      "|      Elon Musk|            adult|\n",
      "|Mark Zuckerberg|            adult|\n",
      "|   Park Ji-Sung|            adult|\n",
      "|  Son Heung-min|            young|\n",
      "|     Kim Minjae|            young|\n",
      "|    Lee Jaeyong|            adult|\n",
      "| Warren Buffett|           senior|\n",
      "+---------------+-----------------+\n",
      "\n"
     ]
    }
   ],
   "source": [
    "spark.sql(\"SELECT name,age_category(age) FROM age\").show()"
   ]
  },
  {
   "cell_type": "code",
   "execution_count": null,
   "id": "2e6948cc-629b-4c35-8de2-b5149cb67ca3",
   "metadata": {},
   "outputs": [],
   "source": []
  }
 ],
 "metadata": {
  "kernelspec": {
   "display_name": "Python 3 (ipykernel)",
   "language": "python",
   "name": "python3"
  },
  "language_info": {
   "codemirror_mode": {
    "name": "ipython",
    "version": 3
   },
   "file_extension": ".py",
   "mimetype": "text/x-python",
   "name": "python",
   "nbconvert_exporter": "python",
   "pygments_lexer": "ipython3",
   "version": "3.9.12"
  }
 },
 "nbformat": 4,
 "nbformat_minor": 5
}
